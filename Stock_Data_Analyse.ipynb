{
  "nbformat": 4,
  "nbformat_minor": 0,
  "metadata": {
    "colab": {
      "name": "Stock_Data_Analyse.ipynb",
      "provenance": [],
      "authorship_tag": "ABX9TyN/VSiB8OEhlJ1l/mUSnpqU",
      "include_colab_link": true
    },
    "kernelspec": {
      "name": "python3",
      "display_name": "Python 3"
    },
    "language_info": {
      "name": "python"
    }
  },
  "cells": [
    {
      "cell_type": "markdown",
      "metadata": {
        "id": "view-in-github",
        "colab_type": "text"
      },
      "source": [
        "<a href=\"https://colab.research.google.com/github/luiesa/pygame/blob/1.9.6-python3.8/Stock_Data_Analyse.ipynb\" target=\"_parent\"><img src=\"https://colab.research.google.com/assets/colab-badge.svg\" alt=\"Open In Colab\"/></a>"
      ]
    },
    {
      "cell_type": "code",
      "metadata": {
        "id": "vav8-aFMZqj4"
      },
      "source": [
        "# Aktien/Stock: Python for Finance,Yahoo & Google Finance API, pandas, and matplotlib\n",
        "#read the Data from Yahoo Finance API. ##'from pandas_datareader import web*##\n",
        "\n",
        "from pandas_datareader import data #as pdr\n",
        "import matplotlib.pyplot as plt\n",
        "import pandas as pd\n",
        "\n"
      ],
      "execution_count": 28,
      "outputs": []
    },
    {
      "cell_type": "code",
      "metadata": {
        "colab": {
          "base_uri": "https://localhost:8080/"
        },
        "id": "kgnqLhJhaELg",
        "outputId": "3257c95d-a356-4e85-8e9a-d6cc8e5ae9cf"
      },
      "source": [
        "# Define the instruments to download. We would like to see Apple, Microsoft and the S&P500 index.\n",
        "tickers = ['AAPL', 'MSFT', '^GSPC']\n",
        "#df = ['AAPL', 'MSFT', '^GSPC']\n",
        "\n",
        "# We would like all available data from 01/01/2000 until 12/31/2016.\n",
        "start_date = '2010-01-01'\n",
        "end_date = '2021-05-13'\n",
        "\n",
        "# User pandas_reader.data.DataReader to load the desired data. As simple as that.\n",
        "panel_data = data.DataReader(tickers, 'yahoo', start_date, end_date)\n",
        "#panel_data = data.DataReader('INPX',data_resouce='yahoo', start_date='2000-01-01', end_date='2021-05-13')\n",
        "#panel_data.to_frame().head(9) # a dataframe and calling the top nine rows\n",
        "print(type(panel_data))\n",
        "\n"
      ],
      "execution_count": 63,
      "outputs": [
        {
          "output_type": "stream",
          "text": [
            "<class 'pandas.core.frame.DataFrame'>\n"
          ],
          "name": "stdout"
        }
      ]
    },
    {
      "cell_type": "code",
      "metadata": {
        "colab": {
          "base_uri": "https://localhost:8080/",
          "height": 355
        },
        "id": "1iOXssZylBe0",
        "outputId": "200b5128-4940-4c15-beb8-109ec172926f"
      },
      "source": [
        "panel_data.head(9)"
      ],
      "execution_count": 55,
      "outputs": [
        {
          "output_type": "execute_result",
          "data": {
            "text/html": [
              "<div>\n",
              "<style scoped>\n",
              "    .dataframe tbody tr th:only-of-type {\n",
              "        vertical-align: middle;\n",
              "    }\n",
              "\n",
              "    .dataframe tbody tr th {\n",
              "        vertical-align: top;\n",
              "    }\n",
              "\n",
              "    .dataframe thead th {\n",
              "        text-align: right;\n",
              "    }\n",
              "</style>\n",
              "<table border=\"1\" class=\"dataframe\">\n",
              "  <thead>\n",
              "    <tr style=\"text-align: right;\">\n",
              "      <th></th>\n",
              "      <th>High</th>\n",
              "      <th>Low</th>\n",
              "      <th>Open</th>\n",
              "      <th>Close</th>\n",
              "      <th>Volume</th>\n",
              "      <th>Adj Close</th>\n",
              "    </tr>\n",
              "    <tr>\n",
              "      <th>Date</th>\n",
              "      <th></th>\n",
              "      <th></th>\n",
              "      <th></th>\n",
              "      <th></th>\n",
              "      <th></th>\n",
              "      <th></th>\n",
              "    </tr>\n",
              "  </thead>\n",
              "  <tbody>\n",
              "    <tr>\n",
              "      <th>2012-08-03</th>\n",
              "      <td>680400.0</td>\n",
              "      <td>680400.0</td>\n",
              "      <td>680400.0</td>\n",
              "      <td>680400.0</td>\n",
              "      <td>0.0</td>\n",
              "      <td>680400.0</td>\n",
              "    </tr>\n",
              "    <tr>\n",
              "      <th>2012-08-06</th>\n",
              "      <td>680400.0</td>\n",
              "      <td>680400.0</td>\n",
              "      <td>680400.0</td>\n",
              "      <td>680400.0</td>\n",
              "      <td>0.0</td>\n",
              "      <td>680400.0</td>\n",
              "    </tr>\n",
              "    <tr>\n",
              "      <th>2012-08-07</th>\n",
              "      <td>243000.0</td>\n",
              "      <td>243000.0</td>\n",
              "      <td>243000.0</td>\n",
              "      <td>243000.0</td>\n",
              "      <td>0.0</td>\n",
              "      <td>243000.0</td>\n",
              "    </tr>\n",
              "    <tr>\n",
              "      <th>2012-08-08</th>\n",
              "      <td>243000.0</td>\n",
              "      <td>243000.0</td>\n",
              "      <td>243000.0</td>\n",
              "      <td>243000.0</td>\n",
              "      <td>0.0</td>\n",
              "      <td>243000.0</td>\n",
              "    </tr>\n",
              "    <tr>\n",
              "      <th>2012-08-09</th>\n",
              "      <td>729000.0</td>\n",
              "      <td>729000.0</td>\n",
              "      <td>729000.0</td>\n",
              "      <td>729000.0</td>\n",
              "      <td>0.0</td>\n",
              "      <td>729000.0</td>\n",
              "    </tr>\n",
              "    <tr>\n",
              "      <th>2012-08-10</th>\n",
              "      <td>729000.0</td>\n",
              "      <td>729000.0</td>\n",
              "      <td>729000.0</td>\n",
              "      <td>729000.0</td>\n",
              "      <td>0.0</td>\n",
              "      <td>729000.0</td>\n",
              "    </tr>\n",
              "    <tr>\n",
              "      <th>2012-08-13</th>\n",
              "      <td>729000.0</td>\n",
              "      <td>729000.0</td>\n",
              "      <td>729000.0</td>\n",
              "      <td>729000.0</td>\n",
              "      <td>0.0</td>\n",
              "      <td>729000.0</td>\n",
              "    </tr>\n",
              "    <tr>\n",
              "      <th>2012-08-14</th>\n",
              "      <td>243000.0</td>\n",
              "      <td>243000.0</td>\n",
              "      <td>243000.0</td>\n",
              "      <td>243000.0</td>\n",
              "      <td>0.0</td>\n",
              "      <td>243000.0</td>\n",
              "    </tr>\n",
              "    <tr>\n",
              "      <th>2012-08-15</th>\n",
              "      <td>243000.0</td>\n",
              "      <td>243000.0</td>\n",
              "      <td>243000.0</td>\n",
              "      <td>243000.0</td>\n",
              "      <td>0.0</td>\n",
              "      <td>243000.0</td>\n",
              "    </tr>\n",
              "  </tbody>\n",
              "</table>\n",
              "</div>"
            ],
            "text/plain": [
              "                High       Low      Open     Close  Volume  Adj Close\n",
              "Date                                                                 \n",
              "2012-08-03  680400.0  680400.0  680400.0  680400.0     0.0   680400.0\n",
              "2012-08-06  680400.0  680400.0  680400.0  680400.0     0.0   680400.0\n",
              "2012-08-07  243000.0  243000.0  243000.0  243000.0     0.0   243000.0\n",
              "2012-08-08  243000.0  243000.0  243000.0  243000.0     0.0   243000.0\n",
              "2012-08-09  729000.0  729000.0  729000.0  729000.0     0.0   729000.0\n",
              "2012-08-10  729000.0  729000.0  729000.0  729000.0     0.0   729000.0\n",
              "2012-08-13  729000.0  729000.0  729000.0  729000.0     0.0   729000.0\n",
              "2012-08-14  243000.0  243000.0  243000.0  243000.0     0.0   243000.0\n",
              "2012-08-15  243000.0  243000.0  243000.0  243000.0     0.0   243000.0"
            ]
          },
          "metadata": {
            "tags": []
          },
          "execution_count": 55
        }
      ]
    },
    {
      "cell_type": "code",
      "metadata": {
        "colab": {
          "base_uri": "https://localhost:8080/"
        },
        "id": "ej1qqBekmk3M",
        "outputId": "9111114c-e4e7-4893-cfac-7b4a82dee773"
      },
      "source": [
        "#Preparing the Data\n",
        "# Getting just the adjusted closing prices. This will return a Pandas DataFrame\n",
        "# The index in this DataFrame is the major index of the panel_data.\n",
        "close = panel_data['Close']\n",
        "print(close)\n"
      ],
      "execution_count": 64,
      "outputs": [
        {
          "output_type": "stream",
          "text": [
            "Symbols           AAPL        MSFT        ^GSPC\n",
            "Date                                           \n",
            "2010-01-04    7.643214   30.950001  1132.989990\n",
            "2010-01-05    7.656429   30.959999  1136.520020\n",
            "2010-01-06    7.534643   30.770000  1137.140015\n",
            "2010-01-07    7.520714   30.450001  1141.689941\n",
            "2010-01-08    7.570714   30.660000  1144.979980\n",
            "...                ...         ...          ...\n",
            "2021-05-07  130.210007  252.460007  4232.600098\n",
            "2021-05-10  126.849998  247.179993  4188.430176\n",
            "2021-05-11  125.910004  246.229996  4152.100098\n",
            "2021-05-12  122.769997  239.000000  4063.040039\n",
            "2021-05-13  124.970001  243.029999  4112.500000\n",
            "\n",
            "[2860 rows x 3 columns]\n"
          ],
          "name": "stdout"
        }
      ]
    },
    {
      "cell_type": "code",
      "metadata": {
        "colab": {
          "base_uri": "https://localhost:8080/"
        },
        "id": "ZHyR5gZlnIu6",
        "outputId": "20253367-9785-4939-c652-2ee3e9e2f809"
      },
      "source": [
        "# Getting all weekdays between 01/01/2000 and 12/31/2016\n",
        "all_weekdays = pd.date_range(start=start_date, end=end_date, freq='B')\n",
        "print(all_weekdays)"
      ],
      "execution_count": 65,
      "outputs": [
        {
          "output_type": "stream",
          "text": [
            "DatetimeIndex(['2010-01-01', '2010-01-04', '2010-01-05', '2010-01-06',\n",
            "               '2010-01-07', '2010-01-08', '2010-01-11', '2010-01-12',\n",
            "               '2010-01-13', '2010-01-14',\n",
            "               ...\n",
            "               '2021-04-30', '2021-05-03', '2021-05-04', '2021-05-05',\n",
            "               '2021-05-06', '2021-05-07', '2021-05-10', '2021-05-11',\n",
            "               '2021-05-12', '2021-05-13'],\n",
            "              dtype='datetime64[ns]', length=2965, freq='B')\n"
          ],
          "name": "stdout"
        }
      ]
    },
    {
      "cell_type": "code",
      "metadata": {
        "colab": {
          "base_uri": "https://localhost:8080/"
        },
        "id": "wnj5ROvgnil8",
        "outputId": "e29241d2-6aa2-4e2c-c3fd-3794b4b47c10"
      },
      "source": [
        "# How do we align the existing prices in adj_close with our new set of dates?\n",
        "# All we need to do is reindex close using all_weekdays as the new index\n",
        "close = close.reindex(all_weekdays)\n",
        "print(close)"
      ],
      "execution_count": 66,
      "outputs": [
        {
          "output_type": "stream",
          "text": [
            "Symbols           AAPL        MSFT        ^GSPC\n",
            "2010-01-01         NaN         NaN          NaN\n",
            "2010-01-04    7.643214   30.950001  1132.989990\n",
            "2010-01-05    7.656429   30.959999  1136.520020\n",
            "2010-01-06    7.534643   30.770000  1137.140015\n",
            "2010-01-07    7.520714   30.450001  1141.689941\n",
            "...                ...         ...          ...\n",
            "2021-05-07  130.210007  252.460007  4232.600098\n",
            "2021-05-10  126.849998  247.179993  4188.430176\n",
            "2021-05-11  125.910004  246.229996  4152.100098\n",
            "2021-05-12  122.769997  239.000000  4063.040039\n",
            "2021-05-13  124.970001  243.029999  4112.500000\n",
            "\n",
            "[2965 rows x 3 columns]\n"
          ],
          "name": "stdout"
        }
      ]
    },
    {
      "cell_type": "code",
      "metadata": {
        "colab": {
          "base_uri": "https://localhost:8080/"
        },
        "id": "ncObR7X9n3EE",
        "outputId": "f625022d-8ecc-4db5-c6d6-3fa4bd5e1502"
      },
      "source": [
        "# Reindexing will insert missing values (NaN) for the dates that were not present\n",
        "# in the original set. To cope with this, we can fill the missing by replacing them\n",
        "# with the latest available price for each instrument.\n",
        "close = close.fillna(method='ffill')\n",
        "print(close)"
      ],
      "execution_count": 67,
      "outputs": [
        {
          "output_type": "stream",
          "text": [
            "Symbols           AAPL        MSFT        ^GSPC\n",
            "2010-01-01         NaN         NaN          NaN\n",
            "2010-01-04    7.643214   30.950001  1132.989990\n",
            "2010-01-05    7.656429   30.959999  1136.520020\n",
            "2010-01-06    7.534643   30.770000  1137.140015\n",
            "2010-01-07    7.520714   30.450001  1141.689941\n",
            "...                ...         ...          ...\n",
            "2021-05-07  130.210007  252.460007  4232.600098\n",
            "2021-05-10  126.849998  247.179993  4188.430176\n",
            "2021-05-11  125.910004  246.229996  4152.100098\n",
            "2021-05-12  122.769997  239.000000  4063.040039\n",
            "2021-05-13  124.970001  243.029999  4112.500000\n",
            "\n",
            "[2965 rows x 3 columns]\n"
          ],
          "name": "stdout"
        }
      ]
    },
    {
      "cell_type": "code",
      "metadata": {
        "colab": {
          "base_uri": "https://localhost:8080/",
          "height": 355
        },
        "id": "Lh0VZGQio5gT",
        "outputId": "565f6976-8190-4b52-ef44-013417f7e111"
      },
      "source": [
        "# Aligning the original DataFrame with the new DatetimeIndex \n",
        "close.head(10)"
      ],
      "execution_count": 70,
      "outputs": [
        {
          "output_type": "execute_result",
          "data": {
            "text/html": [
              "<div>\n",
              "<style scoped>\n",
              "    .dataframe tbody tr th:only-of-type {\n",
              "        vertical-align: middle;\n",
              "    }\n",
              "\n",
              "    .dataframe tbody tr th {\n",
              "        vertical-align: top;\n",
              "    }\n",
              "\n",
              "    .dataframe thead th {\n",
              "        text-align: right;\n",
              "    }\n",
              "</style>\n",
              "<table border=\"1\" class=\"dataframe\">\n",
              "  <thead>\n",
              "    <tr style=\"text-align: right;\">\n",
              "      <th>Symbols</th>\n",
              "      <th>AAPL</th>\n",
              "      <th>MSFT</th>\n",
              "      <th>^GSPC</th>\n",
              "    </tr>\n",
              "  </thead>\n",
              "  <tbody>\n",
              "    <tr>\n",
              "      <th>2010-01-01</th>\n",
              "      <td>NaN</td>\n",
              "      <td>NaN</td>\n",
              "      <td>NaN</td>\n",
              "    </tr>\n",
              "    <tr>\n",
              "      <th>2010-01-04</th>\n",
              "      <td>7.643214</td>\n",
              "      <td>30.950001</td>\n",
              "      <td>1132.989990</td>\n",
              "    </tr>\n",
              "    <tr>\n",
              "      <th>2010-01-05</th>\n",
              "      <td>7.656429</td>\n",
              "      <td>30.959999</td>\n",
              "      <td>1136.520020</td>\n",
              "    </tr>\n",
              "    <tr>\n",
              "      <th>2010-01-06</th>\n",
              "      <td>7.534643</td>\n",
              "      <td>30.770000</td>\n",
              "      <td>1137.140015</td>\n",
              "    </tr>\n",
              "    <tr>\n",
              "      <th>2010-01-07</th>\n",
              "      <td>7.520714</td>\n",
              "      <td>30.450001</td>\n",
              "      <td>1141.689941</td>\n",
              "    </tr>\n",
              "    <tr>\n",
              "      <th>2010-01-08</th>\n",
              "      <td>7.570714</td>\n",
              "      <td>30.660000</td>\n",
              "      <td>1144.979980</td>\n",
              "    </tr>\n",
              "    <tr>\n",
              "      <th>2010-01-11</th>\n",
              "      <td>7.503929</td>\n",
              "      <td>30.270000</td>\n",
              "      <td>1146.979980</td>\n",
              "    </tr>\n",
              "    <tr>\n",
              "      <th>2010-01-12</th>\n",
              "      <td>7.418571</td>\n",
              "      <td>30.070000</td>\n",
              "      <td>1136.219971</td>\n",
              "    </tr>\n",
              "    <tr>\n",
              "      <th>2010-01-13</th>\n",
              "      <td>7.523214</td>\n",
              "      <td>30.350000</td>\n",
              "      <td>1145.680054</td>\n",
              "    </tr>\n",
              "    <tr>\n",
              "      <th>2010-01-14</th>\n",
              "      <td>7.479643</td>\n",
              "      <td>30.959999</td>\n",
              "      <td>1148.459961</td>\n",
              "    </tr>\n",
              "  </tbody>\n",
              "</table>\n",
              "</div>"
            ],
            "text/plain": [
              "Symbols         AAPL       MSFT        ^GSPC\n",
              "2010-01-01       NaN        NaN          NaN\n",
              "2010-01-04  7.643214  30.950001  1132.989990\n",
              "2010-01-05  7.656429  30.959999  1136.520020\n",
              "2010-01-06  7.534643  30.770000  1137.140015\n",
              "2010-01-07  7.520714  30.450001  1141.689941\n",
              "2010-01-08  7.570714  30.660000  1144.979980\n",
              "2010-01-11  7.503929  30.270000  1146.979980\n",
              "2010-01-12  7.418571  30.070000  1136.219971\n",
              "2010-01-13  7.523214  30.350000  1145.680054\n",
              "2010-01-14  7.479643  30.959999  1148.459961"
            ]
          },
          "metadata": {
            "tags": []
          },
          "execution_count": 70
        }
      ]
    },
    {
      "cell_type": "code",
      "metadata": {
        "colab": {
          "base_uri": "https://localhost:8080/",
          "height": 294
        },
        "id": "ooli69xeugAV",
        "outputId": "9260d39b-08f4-41ce-b74f-eb13cf377698"
      },
      "source": [
        "# Looking at the Data of a Pandas DataFrame\n",
        "close.describe()"
      ],
      "execution_count": 83,
      "outputs": [
        {
          "output_type": "execute_result",
          "data": {
            "text/html": [
              "<div>\n",
              "<style scoped>\n",
              "    .dataframe tbody tr th:only-of-type {\n",
              "        vertical-align: middle;\n",
              "    }\n",
              "\n",
              "    .dataframe tbody tr th {\n",
              "        vertical-align: top;\n",
              "    }\n",
              "\n",
              "    .dataframe thead th {\n",
              "        text-align: right;\n",
              "    }\n",
              "</style>\n",
              "<table border=\"1\" class=\"dataframe\">\n",
              "  <thead>\n",
              "    <tr style=\"text-align: right;\">\n",
              "      <th>Symbols</th>\n",
              "      <th>AAPL</th>\n",
              "      <th>MSFT</th>\n",
              "      <th>^GSPC</th>\n",
              "    </tr>\n",
              "  </thead>\n",
              "  <tbody>\n",
              "    <tr>\n",
              "      <th>count</th>\n",
              "      <td>2964.000000</td>\n",
              "      <td>2964.000000</td>\n",
              "      <td>2964.000000</td>\n",
              "    </tr>\n",
              "    <tr>\n",
              "      <th>mean</th>\n",
              "      <td>36.817558</td>\n",
              "      <td>74.225567</td>\n",
              "      <td>2137.487068</td>\n",
              "    </tr>\n",
              "    <tr>\n",
              "      <th>std</th>\n",
              "      <td>29.436980</td>\n",
              "      <td>58.774843</td>\n",
              "      <td>742.172145</td>\n",
              "    </tr>\n",
              "    <tr>\n",
              "      <th>min</th>\n",
              "      <td>6.858929</td>\n",
              "      <td>23.010000</td>\n",
              "      <td>1022.580017</td>\n",
              "    </tr>\n",
              "    <tr>\n",
              "      <th>25%</th>\n",
              "      <td>17.908035</td>\n",
              "      <td>30.530001</td>\n",
              "      <td>1427.777466</td>\n",
              "    </tr>\n",
              "    <tr>\n",
              "      <th>50%</th>\n",
              "      <td>27.408751</td>\n",
              "      <td>47.875000</td>\n",
              "      <td>2066.339966</td>\n",
              "    </tr>\n",
              "    <tr>\n",
              "      <th>75%</th>\n",
              "      <td>44.114375</td>\n",
              "      <td>101.442499</td>\n",
              "      <td>2713.219971</td>\n",
              "    </tr>\n",
              "    <tr>\n",
              "      <th>max</th>\n",
              "      <td>143.160004</td>\n",
              "      <td>261.970001</td>\n",
              "      <td>4232.600098</td>\n",
              "    </tr>\n",
              "  </tbody>\n",
              "</table>\n",
              "</div>"
            ],
            "text/plain": [
              "Symbols         AAPL         MSFT        ^GSPC\n",
              "count    2964.000000  2964.000000  2964.000000\n",
              "mean       36.817558    74.225567  2137.487068\n",
              "std        29.436980    58.774843   742.172145\n",
              "min         6.858929    23.010000  1022.580017\n",
              "25%        17.908035    30.530001  1427.777466\n",
              "50%        27.408751    47.875000  2066.339966\n",
              "75%        44.114375   101.442499  2713.219971\n",
              "max       143.160004   261.970001  4232.600098"
            ]
          },
          "metadata": {
            "tags": []
          },
          "execution_count": 83
        }
      ]
    },
    {
      "cell_type": "code",
      "metadata": {
        "colab": {
          "base_uri": "https://localhost:8080/"
        },
        "id": "-9BDCu6Ew2vg",
        "outputId": "2e062da6-b018-4dcc-c616-a757da5cd746"
      },
      "source": [
        "# moving average of the original time-serie\n",
        "# Get the MSFT timeseries. This now returns a Pandas Series object indexed by date.\n",
        "msft = close.loc[:, 'MSFT']\n",
        "print(msft)"
      ],
      "execution_count": 89,
      "outputs": [
        {
          "output_type": "stream",
          "text": [
            "2010-01-01           NaN\n",
            "2010-01-04     30.950001\n",
            "2010-01-05     30.959999\n",
            "2010-01-06     30.770000\n",
            "2010-01-07     30.450001\n",
            "                 ...    \n",
            "2021-05-07    252.460007\n",
            "2021-05-10    247.179993\n",
            "2021-05-11    246.229996\n",
            "2021-05-12    239.000000\n",
            "2021-05-13    243.029999\n",
            "Freq: B, Name: MSFT, Length: 2965, dtype: float64\n"
          ],
          "name": "stdout"
        }
      ]
    },
    {
      "cell_type": "code",
      "metadata": {
        "id": "VKLQdhspzUlg"
      },
      "source": [
        "# Calculate the 20 and 100 days moving averages of the closing prices\n",
        "short_rolling_msft = msft.rolling(window=20).mean()\n",
        "long_rolling_msft = msft.rolling(window=100).mean()\n"
      ],
      "execution_count": 94,
      "outputs": []
    },
    {
      "cell_type": "code",
      "metadata": {
        "colab": {
          "base_uri": "https://localhost:8080/",
          "height": 569
        },
        "id": "7jjoAbrmzaKs",
        "outputId": "726286a9-d313-4c91-ef4e-89e38e27a27b"
      },
      "source": [
        "# Plot everything by leveraging the very powerful matplotlib package\n",
        "fig, ax = plt.subplots(figsize=(16,9))\n",
        "\n",
        "ax.plot(msft.index, msft, label='MSFT')\n",
        "ax.plot(short_rolling_msft.index, short_rolling_msft, label='20 days rolling')\n",
        "ax.plot(long_rolling_msft.index, long_rolling_msft, label='100 days rolling')\n",
        "\n",
        "ax.set_xlabel('Date')\n",
        "ax.set_ylabel('Adjusted closing price ($)')\n",
        "ax.legend()\n",
        "\n"
      ],
      "execution_count": 96,
      "outputs": [
        {
          "output_type": "execute_result",
          "data": {
            "text/plain": [
              "<matplotlib.legend.Legend at 0x7f3be2de7c90>"
            ]
          },
          "metadata": {
            "tags": []
          },
          "execution_count": 96
        },
        {
          "output_type": "display_data",
          "data": {
            "image/png": "[encoded data removed]",
            "text/plain": [
              "<Figure size 1152x648 with 1 Axes>"
            ]
          },
          "metadata": {
            "tags": [],
            "needs_background": "light"
          }
        }
      ]
    }
  ]
}