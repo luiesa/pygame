{
  "nbformat": 4,
  "nbformat_minor": 0,
  "metadata": {
    "colab": {
      "name": "Untitled2.ipynb",
      "provenance": [],
      "collapsed_sections": [],
      "authorship_tag": "ABX9TyNMM1wQl5bR7+bd4tQ5D9//",
      "include_colab_link": true
    },
    "kernelspec": {
      "name": "python3",
      "display_name": "Python 3"
    },
    "language_info": {
      "name": "python"
    }
  },
  "cells": [
    {
      "cell_type": "markdown",
      "metadata": {
        "id": "view-in-github",
        "colab_type": "text"
      },
      "source": [
        "<a href=\"https://colab.research.google.com/github/luiesa/pygame/blob/1.9.6-python3.8/AI-Predict_Stockprice.ipynb\" target=\"_parent\"><img src=\"https://colab.research.google.com/assets/colab-badge.svg\" alt=\"Open In Colab\"/></a>"
      ]
    },
    {
      "cell_type": "code",
      "metadata": {
        "colab": {
          "base_uri": "https://localhost:8080/",
          "height": 446
        },
        "id": "457LoLMvtxsS",
        "outputId": "d9b596fb-1b6f-4419-9e4c-40689af9c05d"
      },
      "source": [
        "#Description: This programm users an artificial recurrent neural network called Long Short Term Memory (LSTM) \n",
        "#             to predict the closing stock price of a corporation (Apple Inc.) using the past 60 days stock price. \n",
        "\n",
        "#Import the librayies\n",
        "import math\n",
        "import pandas_datareader as web\n",
        "import numpy as np\n",
        "import pandas as pd\n",
        "from sklearn.preprocessing import MinMaxScaler\n",
        "from keras.models import Sequential\n",
        "from keras.layers import Dense, LSTM\n",
        "import matplotlib.pyplot as plt\n",
        "plt.style.use('fivethirtyeight')\n",
        "\n",
        "#Get the stock quote\n",
        "df = web.DataReader('AAPL', data_source='yahoo', start='2010-01-01', end='2021-05-14')\n",
        "#Show the data\n",
        "df\n"
      ],
      "execution_count": 1,
      "outputs": [
        {
          "output_type": "execute_result",
          "data": {
            "text/html": [
              "<div>\n",
              "<style scoped>\n",
              "    .dataframe tbody tr th:only-of-type {\n",
              "        vertical-align: middle;\n",
              "    }\n",
              "\n",
              "    .dataframe tbody tr th {\n",
              "        vertical-align: top;\n",
              "    }\n",
              "\n",
              "    .dataframe thead th {\n",
              "        text-align: right;\n",
              "    }\n",
              "</style>\n",
              "<table border=\"1\" class=\"dataframe\">\n",
              "  <thead>\n",
              "    <tr style=\"text-align: right;\">\n",
              "      <th></th>\n",
              "      <th>High</th>\n",
              "      <th>Low</th>\n",
              "      <th>Open</th>\n",
              "      <th>Close</th>\n",
              "      <th>Volume</th>\n",
              "      <th>Adj Close</th>\n",
              "    </tr>\n",
              "    <tr>\n",
              "      <th>Date</th>\n",
              "      <th></th>\n",
              "      <th></th>\n",
              "      <th></th>\n",
              "      <th></th>\n",
              "      <th></th>\n",
              "      <th></th>\n",
              "    </tr>\n",
              "  </thead>\n",
              "  <tbody>\n",
              "    <tr>\n",
              "      <th>2010-01-04</th>\n",
              "      <td>7.660714</td>\n",
              "      <td>7.585000</td>\n",
              "      <td>7.622500</td>\n",
              "      <td>7.643214</td>\n",
              "      <td>493729600.0</td>\n",
              "      <td>6.572422</td>\n",
              "    </tr>\n",
              "    <tr>\n",
              "      <th>2010-01-05</th>\n",
              "      <td>7.699643</td>\n",
              "      <td>7.616071</td>\n",
              "      <td>7.664286</td>\n",
              "      <td>7.656429</td>\n",
              "      <td>601904800.0</td>\n",
              "      <td>6.583784</td>\n",
              "    </tr>\n",
              "    <tr>\n",
              "      <th>2010-01-06</th>\n",
              "      <td>7.686786</td>\n",
              "      <td>7.526786</td>\n",
              "      <td>7.656429</td>\n",
              "      <td>7.534643</td>\n",
              "      <td>552160000.0</td>\n",
              "      <td>6.479061</td>\n",
              "    </tr>\n",
              "    <tr>\n",
              "      <th>2010-01-07</th>\n",
              "      <td>7.571429</td>\n",
              "      <td>7.466071</td>\n",
              "      <td>7.562500</td>\n",
              "      <td>7.520714</td>\n",
              "      <td>477131200.0</td>\n",
              "      <td>6.467082</td>\n",
              "    </tr>\n",
              "    <tr>\n",
              "      <th>2010-01-08</th>\n",
              "      <td>7.571429</td>\n",
              "      <td>7.466429</td>\n",
              "      <td>7.510714</td>\n",
              "      <td>7.570714</td>\n",
              "      <td>447610800.0</td>\n",
              "      <td>6.510078</td>\n",
              "    </tr>\n",
              "    <tr>\n",
              "      <th>...</th>\n",
              "      <td>...</td>\n",
              "      <td>...</td>\n",
              "      <td>...</td>\n",
              "      <td>...</td>\n",
              "      <td>...</td>\n",
              "      <td>...</td>\n",
              "    </tr>\n",
              "    <tr>\n",
              "      <th>2021-05-10</th>\n",
              "      <td>129.539993</td>\n",
              "      <td>126.809998</td>\n",
              "      <td>129.410004</td>\n",
              "      <td>126.849998</td>\n",
              "      <td>88071200.0</td>\n",
              "      <td>126.849998</td>\n",
              "    </tr>\n",
              "    <tr>\n",
              "      <th>2021-05-11</th>\n",
              "      <td>126.269997</td>\n",
              "      <td>122.769997</td>\n",
              "      <td>123.500000</td>\n",
              "      <td>125.910004</td>\n",
              "      <td>126142800.0</td>\n",
              "      <td>125.910004</td>\n",
              "    </tr>\n",
              "    <tr>\n",
              "      <th>2021-05-12</th>\n",
              "      <td>124.639999</td>\n",
              "      <td>122.250000</td>\n",
              "      <td>123.400002</td>\n",
              "      <td>122.769997</td>\n",
              "      <td>112172300.0</td>\n",
              "      <td>122.769997</td>\n",
              "    </tr>\n",
              "    <tr>\n",
              "      <th>2021-05-13</th>\n",
              "      <td>126.150002</td>\n",
              "      <td>124.260002</td>\n",
              "      <td>124.580002</td>\n",
              "      <td>124.970001</td>\n",
              "      <td>105752400.0</td>\n",
              "      <td>124.970001</td>\n",
              "    </tr>\n",
              "    <tr>\n",
              "      <th>2021-05-14</th>\n",
              "      <td>127.731102</td>\n",
              "      <td>125.849998</td>\n",
              "      <td>126.250000</td>\n",
              "      <td>127.440002</td>\n",
              "      <td>56372489.0</td>\n",
              "      <td>127.440002</td>\n",
              "    </tr>\n",
              "  </tbody>\n",
              "</table>\n",
              "<p>2861 rows × 6 columns</p>\n",
              "</div>"
            ],
            "text/plain": [
              "                  High         Low  ...       Volume   Adj Close\n",
              "Date                                ...                         \n",
              "2010-01-04    7.660714    7.585000  ...  493729600.0    6.572422\n",
              "2010-01-05    7.699643    7.616071  ...  601904800.0    6.583784\n",
              "2010-01-06    7.686786    7.526786  ...  552160000.0    6.479061\n",
              "2010-01-07    7.571429    7.466071  ...  477131200.0    6.467082\n",
              "2010-01-08    7.571429    7.466429  ...  447610800.0    6.510078\n",
              "...                ...         ...  ...          ...         ...\n",
              "2021-05-10  129.539993  126.809998  ...   88071200.0  126.849998\n",
              "2021-05-11  126.269997  122.769997  ...  126142800.0  125.910004\n",
              "2021-05-12  124.639999  122.250000  ...  112172300.0  122.769997\n",
              "2021-05-13  126.150002  124.260002  ...  105752400.0  124.970001\n",
              "2021-05-14  127.731102  125.849998  ...   56372489.0  127.440002\n",
              "\n",
              "[2861 rows x 6 columns]"
            ]
          },
          "metadata": {
            "tags": []
          },
          "execution_count": 1
        }
      ]
    },
    {
      "cell_type": "code",
      "metadata": {
        "colab": {
          "base_uri": "https://localhost:8080/"
        },
        "id": "5FBCbXjDz4t7",
        "outputId": "193fea84-95ae-4b8a-9863-4f3ebd68d39b"
      },
      "source": [
        "#Get the number of rows and columns in the data set\n",
        "df.shape"
      ],
      "execution_count": 17,
      "outputs": [
        {
          "output_type": "execute_result",
          "data": {
            "text/plain": [
              "(2861, 6)"
            ]
          },
          "metadata": {
            "tags": []
          },
          "execution_count": 17
        }
      ]
    },
    {
      "cell_type": "code",
      "metadata": {
        "colab": {
          "base_uri": "https://localhost:8080/",
          "height": 518
        },
        "id": "KKUs6EbW0rD5",
        "outputId": "e4d76d56-e9b6-4601-a83f-4fd43195e733"
      },
      "source": [
        "#visualize the closing price history\n",
        "plt.figure(figsize=(16,8))\n",
        "plt.title('Close Price History')\n",
        "plt.plot(df['Close'])\n",
        "plt.xlabel('Date', fontsize=18)\n",
        "plt.ylabel('Close Price USD($)', fontsize=18)\n",
        "plt.show()\n",
        "\n"
      ],
      "execution_count": 18,
      "outputs": [
        {
          "output_type": "display_data",
          "data": {
            "image/png": "[encoded data removed]",
            "text/plain": [
              "<Figure size 1152x576 with 1 Axes>"
            ]
          },
          "metadata": {
            "tags": [],
            "needs_background": "light"
          }
        }
      ]
    },
    {
      "cell_type": "code",
      "metadata": {
        "colab": {
          "base_uri": "https://localhost:8080/"
        },
        "id": "njjOzo6a28kp",
        "outputId": "d3ca9fdd-e819-4b73-caa5-52a728892244"
      },
      "source": [
        "#Create a new dataframe with only the 'Close column'\n",
        "data = df.filter(['Close'])\n",
        "#Convert the dataframe to a numpy array\n",
        "dataset = data.values\n",
        "#Get the number of rows to train the model on\n",
        "training_data_len = math.ceil(len(dataset)*.8)\n",
        "\n",
        "training_data_len\n"
      ],
      "execution_count": 19,
      "outputs": [
        {
          "output_type": "execute_result",
          "data": {
            "text/plain": [
              "2289"
            ]
          },
          "metadata": {
            "tags": []
          },
          "execution_count": 19
        }
      ]
    },
    {
      "cell_type": "code",
      "metadata": {
        "colab": {
          "base_uri": "https://localhost:8080/"
        },
        "id": "O0387rjH4QpU",
        "outputId": "fddf6e63-01d0-444f-e9b4-18b435b59df6"
      },
      "source": [
        "#Scale the data\n",
        "scaler = MinMaxScaler(feature_range=(0,1))\n",
        "scaled_data = scaler.fit_transform(dataset)\n",
        "\n",
        "scaled_data\n"
      ],
      "execution_count": 20,
      "outputs": [
        {
          "output_type": "execute_result",
          "data": {
            "text/plain": [
              "array([[0.00575406],\n",
              "       [0.00585102],\n",
              "       [0.00495751],\n",
              "       ...,\n",
              "       [0.85040465],\n",
              "       [0.86654542],\n",
              "       [0.88466708]])"
            ]
          },
          "metadata": {
            "tags": []
          },
          "execution_count": 20
        }
      ]
    },
    {
      "cell_type": "code",
      "metadata": {
        "colab": {
          "base_uri": "https://localhost:8080/"
        },
        "id": "-jpYB5WD5d-p",
        "outputId": "5e85d714-958d-4c3d-f45b-05100a5efcd6"
      },
      "source": [
        "#Create the training data set\n",
        "#Create the scaled training date set\n",
        "train_data = scaled_data[0:training_data_len, :]\n",
        "#Split the data into x_train and y_train data sets\n",
        "x_train = []\n",
        "y_train = []\n",
        "\n",
        "for i in range(60, len(train_data)):\n",
        "  x_train.append(train_data[i-60:i, 0])\n",
        "  y_train.append(train_data[i, 0]) \n",
        "  if i <= 61:\n",
        "    print(x_train)\n",
        "    print(y_train)\n",
        "    print()\n",
        "\n"
      ],
      "execution_count": 21,
      "outputs": [
        {
          "output_type": "stream",
          "text": [
            "[array([5.75406373e-03, 5.85101519e-03, 4.95751056e-03, 4.85531498e-03,\n",
            "       5.22215135e-03, 4.73217092e-03, 4.10592389e-03, 4.87365715e-03,\n",
            "       4.55398986e-03, 3.63690244e-03, 6.02394863e-03, 5.15665060e-03,\n",
            "       4.19763123e-03, 1.49353806e-03, 2.88751135e-03, 3.63952275e-03,\n",
            "       4.14785234e-03, 1.89705527e-03, 2.61681132e-06, 7.02222017e-04,\n",
            "       9.98310019e-04, 1.88133341e-03, 0.00000000e+00, 8.93497630e-04,\n",
            "       5.42386622e-04, 1.08478024e-03, 8.04410598e-04, 1.73459956e-03,\n",
            "       2.18266553e-03, 2.97398157e-03, 2.75126224e-03, 2.85082702e-03,\n",
            "       2.52067499e-03, 2.19314327e-03, 1.31274019e-03, 2.25603420e-03,\n",
            "       2.60714521e-03, 3.29364886e-03, 4.43870323e-03, 4.40201889e-03,\n",
            "       4.52778326e-03, 4.88937901e-03, 7.04846874e-03, 7.08253277e-03,\n",
            "       8.11491031e-03, 8.59179269e-03, 8.76472614e-03, 9.05296021e-03,\n",
            "       8.32977221e-03, 8.48960411e-03, 8.40313739e-03, 8.54201030e-03,\n",
            "       7.91314996e-03, 8.56821340e-03, 9.51412072e-03, 9.77876851e-03,\n",
            "       9.06605826e-03, 1.01796724e-02, 1.05700811e-02, 1.14766872e-02])]\n",
            "[0.011253964403550636]\n",
            "\n",
            "[array([5.75406373e-03, 5.85101519e-03, 4.95751056e-03, 4.85531498e-03,\n",
            "       5.22215135e-03, 4.73217092e-03, 4.10592389e-03, 4.87365715e-03,\n",
            "       4.55398986e-03, 3.63690244e-03, 6.02394863e-03, 5.15665060e-03,\n",
            "       4.19763123e-03, 1.49353806e-03, 2.88751135e-03, 3.63952275e-03,\n",
            "       4.14785234e-03, 1.89705527e-03, 2.61681132e-06, 7.02222017e-04,\n",
            "       9.98310019e-04, 1.88133341e-03, 0.00000000e+00, 8.93497630e-04,\n",
            "       5.42386622e-04, 1.08478024e-03, 8.04410598e-04, 1.73459956e-03,\n",
            "       2.18266553e-03, 2.97398157e-03, 2.75126224e-03, 2.85082702e-03,\n",
            "       2.52067499e-03, 2.19314327e-03, 1.31274019e-03, 2.25603420e-03,\n",
            "       2.60714521e-03, 3.29364886e-03, 4.43870323e-03, 4.40201889e-03,\n",
            "       4.52778326e-03, 4.88937901e-03, 7.04846874e-03, 7.08253277e-03,\n",
            "       8.11491031e-03, 8.59179269e-03, 8.76472614e-03, 9.05296021e-03,\n",
            "       8.32977221e-03, 8.48960411e-03, 8.40313739e-03, 8.54201030e-03,\n",
            "       7.91314996e-03, 8.56821340e-03, 9.51412072e-03, 9.77876851e-03,\n",
            "       9.06605826e-03, 1.01796724e-02, 1.05700811e-02, 1.14766872e-02]), array([5.85101519e-03, 4.95751056e-03, 4.85531498e-03, 5.22215135e-03,\n",
            "       4.73217092e-03, 4.10592389e-03, 4.87365715e-03, 4.55398986e-03,\n",
            "       3.63690244e-03, 6.02394863e-03, 5.15665060e-03, 4.19763123e-03,\n",
            "       1.49353806e-03, 2.88751135e-03, 3.63952275e-03, 4.14785234e-03,\n",
            "       1.89705527e-03, 2.61681132e-06, 7.02222017e-04, 9.98310019e-04,\n",
            "       1.88133341e-03, 0.00000000e+00, 8.93497630e-04, 5.42386622e-04,\n",
            "       1.08478024e-03, 8.04410598e-04, 1.73459956e-03, 2.18266553e-03,\n",
            "       2.97398157e-03, 2.75126224e-03, 2.85082702e-03, 2.52067499e-03,\n",
            "       2.19314327e-03, 1.31274019e-03, 2.25603420e-03, 2.60714521e-03,\n",
            "       3.29364886e-03, 4.43870323e-03, 4.40201889e-03, 4.52778326e-03,\n",
            "       4.88937901e-03, 7.04846874e-03, 7.08253277e-03, 8.11491031e-03,\n",
            "       8.59179269e-03, 8.76472614e-03, 9.05296021e-03, 8.32977221e-03,\n",
            "       8.48960411e-03, 8.40313739e-03, 8.54201030e-03, 7.91314996e-03,\n",
            "       8.56821340e-03, 9.51412072e-03, 9.77876851e-03, 9.06605826e-03,\n",
            "       1.01796724e-02, 1.05700811e-02, 1.14766872e-02, 1.12539644e-02])]\n",
            "[0.011253964403550636, 0.011508130948778714]\n",
            "\n"
          ],
          "name": "stdout"
        }
      ]
    },
    {
      "cell_type": "code",
      "metadata": {
        "id": "4xhqJUlK8N0m"
      },
      "source": [
        "#Convert the x_train and y_train to numpy arrays\n",
        "x_train, y_train = np.array(x_train), np.array(y_train)"
      ],
      "execution_count": 22,
      "outputs": []
    },
    {
      "cell_type": "code",
      "metadata": {
        "colab": {
          "base_uri": "https://localhost:8080/"
        },
        "id": "3FPIZw6QB6UX",
        "outputId": "a078f292-bbc9-4618-ffa8-ca9c24808b13"
      },
      "source": [
        "#Reshape the data\n",
        "x_train = np.reshape(x_train, (x_train.shape[0], x_train.shape[1], 1))\n",
        "x_train.shape"
      ],
      "execution_count": 23,
      "outputs": [
        {
          "output_type": "execute_result",
          "data": {
            "text/plain": [
              "(2229, 60, 1)"
            ]
          },
          "metadata": {
            "tags": []
          },
          "execution_count": 23
        }
      ]
    },
    {
      "cell_type": "code",
      "metadata": {
        "id": "uKJiaU6dCpNV"
      },
      "source": [
        "#Build the LSTM model\n",
        "model = Sequential()\n",
        "model.add(LSTM(50, return_sequences=True, input_shape=(x_train.shape[1],1)))\n",
        "model.add(LSTM(50, return_sequences=False))\n",
        "model.add(Dense(25))\n",
        "model.add(Dense(1))\n",
        "\n"
      ],
      "execution_count": 24,
      "outputs": []
    },
    {
      "cell_type": "code",
      "metadata": {
        "id": "mr4Exo0aEAhS"
      },
      "source": [
        "#Compile the model\n",
        "model.compile(optimizer='adam', loss='mean_squared_error')\n"
      ],
      "execution_count": 25,
      "outputs": []
    },
    {
      "cell_type": "code",
      "metadata": {
        "colab": {
          "base_uri": "https://localhost:8080/"
        },
        "id": "X0lojFMlEeO7",
        "outputId": "4b70472a-c275-4777-cd56-fd609b247b1f"
      },
      "source": [
        "#Train the model\n",
        "model.fit(x_train, y_train, batch_size=1, epochs=1)"
      ],
      "execution_count": 26,
      "outputs": [
        {
          "output_type": "stream",
          "text": [
            "2229/2229 [==============================] - 55s 24ms/step - loss: 4.7914e-04\n"
          ],
          "name": "stdout"
        },
        {
          "output_type": "execute_result",
          "data": {
            "text/plain": [
              "<tensorflow.python.keras.callbacks.History at 0x7f51525a89d0>"
            ]
          },
          "metadata": {
            "tags": []
          },
          "execution_count": 26
        }
      ]
    },
    {
      "cell_type": "code",
      "metadata": {
        "id": "UnCzGpwbFHmm"
      },
      "source": [
        "#Create the testing data set\n",
        "#Create a new array containing scaled values from index 1824 to 2003\n",
        "test_data = scaled_data[training_data_len - 60: , :]\n",
        "#Create the data sets x_test and y_test\n",
        "x_test = []\n",
        "y_test = dataset[training_data_len: , :]\n",
        "for i in range(60, len(test_data)):\n",
        "  x_test.append(test_data[i-60:i, 0])\n"
      ],
      "execution_count": 27,
      "outputs": []
    },
    {
      "cell_type": "code",
      "metadata": {
        "id": "dTJAPut4Gwm6"
      },
      "source": [
        "#Convert the data to a numpy array\n",
        "x_test = np.array(x_test)\n"
      ],
      "execution_count": 28,
      "outputs": []
    },
    {
      "cell_type": "code",
      "metadata": {
        "id": "xbVo7svcG9-x"
      },
      "source": [
        "#Reshape the data \n",
        "x_test = np.reshape(x_test,(x_test.shape[0], x_test.shape[1],1))"
      ],
      "execution_count": 29,
      "outputs": []
    },
    {
      "cell_type": "code",
      "metadata": {
        "id": "xwZh51J3H7NM"
      },
      "source": [
        "#Get the models predicted price values\n",
        "predictions = model.predict(x_test)\n",
        "predictions = scaler.inverse_transform(predictions)\n"
      ],
      "execution_count": 30,
      "outputs": []
    },
    {
      "cell_type": "code",
      "metadata": {
        "colab": {
          "base_uri": "https://localhost:8080/"
        },
        "id": "xCrW_CKvIfii",
        "outputId": "2e72cc2f-9f62-4255-9ff2-113cfc06597c"
      },
      "source": [
        "#Get the root mean squared error(RMSE)\n",
        "rmse = np.sqrt( np.mean(predictions - y_test)**2 )\n",
        "rmse  "
      ],
      "execution_count": 31,
      "outputs": [
        {
          "output_type": "execute_result",
          "data": {
            "text/plain": [
              "2.227360445302683"
            ]
          },
          "metadata": {
            "tags": []
          },
          "execution_count": 31
        }
      ]
    },
    {
      "cell_type": "code",
      "metadata": {
        "colab": {
          "base_uri": "https://localhost:8080/",
          "height": 885
        },
        "id": "_zTQ06R_J8Cv",
        "outputId": "2bebf784-d7a9-4cf2-adf4-1e4288bdf0d0"
      },
      "source": [
        "#Plot the data\n",
        "train  = data[:training_data_len]\n",
        "valid = data[training_data_len:]\n",
        "valid['Predictions'] = predictions\n",
        "#Visualize the data\n",
        "plt.figure(figsize=(16,8))\n",
        "plt.title('Model')\n",
        "plt.xlabel('Date', fontsize=18)\n",
        "plt.ylabel('Close Price USD($)', fontsize=18)\n",
        "plt.plot(train['Close'])\n",
        "plt.plot(valid[['Close', 'Predictions']])\n",
        "plt.legend(['Train', 'Val', 'Predictions'], loc='high right')\n",
        "plt.show()\n"
      ],
      "execution_count": 32,
      "outputs": [
        {
          "output_type": "stream",
          "text": [
            "/usr/local/lib/python3.7/dist-packages/ipykernel_launcher.py:4: SettingWithCopyWarning: \n",
            "A value is trying to be set on a copy of a slice from a DataFrame.\n",
            "Try using .loc[row_indexer,col_indexer] = value instead\n",
            "\n",
            "See the caveats in the documentation: https://pandas.pydata.org/pandas-docs/stable/user_guide/indexing.html#returning-a-view-versus-a-copy\n",
            "  after removing the cwd from sys.path.\n",
            "/usr/local/lib/python3.7/dist-packages/ipykernel_launcher.py:12: MatplotlibDeprecationWarning: Unrecognized location 'high right'. Falling back on 'best'; valid locations are\n",
            "\tbest\n",
            "\tupper right\n",
            "\tupper left\n",
            "\tlower left\n",
            "\tlower right\n",
            "\tright\n",
            "\tcenter left\n",
            "\tcenter right\n",
            "\tlower center\n",
            "\tupper center\n",
            "\tcenter\n",
            "This will raise an exception in 3.3.\n",
            "  if sys.path[0] == '':\n"
          ],
          "name": "stderr"
        },
        {
          "output_type": "display_data",
          "data": {
            "image/png": "[encoded data removed]",
            "text/plain": [
              "<Figure size 1152x576 with 1 Axes>"
            ]
          },
          "metadata": {
            "tags": [],
            "needs_background": "light"
          }
        }
      ]
    },
    {
      "cell_type": "code",
      "metadata": {
        "colab": {
          "base_uri": "https://localhost:8080/",
          "height": 446
        },
        "id": "uAx5vf7-NY_6",
        "outputId": "84d5fde8-f3b0-4d3d-b0a4-be227c65bb56"
      },
      "source": [
        "#Show the valid and predicted prices\n",
        "valid"
      ],
      "execution_count": 33,
      "outputs": [
        {
          "output_type": "execute_result",
          "data": {
            "text/html": [
              "<div>\n",
              "<style scoped>\n",
              "    .dataframe tbody tr th:only-of-type {\n",
              "        vertical-align: middle;\n",
              "    }\n",
              "\n",
              "    .dataframe tbody tr th {\n",
              "        vertical-align: top;\n",
              "    }\n",
              "\n",
              "    .dataframe thead th {\n",
              "        text-align: right;\n",
              "    }\n",
              "</style>\n",
              "<table border=\"1\" class=\"dataframe\">\n",
              "  <thead>\n",
              "    <tr style=\"text-align: right;\">\n",
              "      <th></th>\n",
              "      <th>Close</th>\n",
              "      <th>Predictions</th>\n",
              "    </tr>\n",
              "    <tr>\n",
              "      <th>Date</th>\n",
              "      <th></th>\n",
              "      <th></th>\n",
              "    </tr>\n",
              "  </thead>\n",
              "  <tbody>\n",
              "    <tr>\n",
              "      <th>2019-02-07</th>\n",
              "      <td>42.735001</td>\n",
              "      <td>43.822216</td>\n",
              "    </tr>\n",
              "    <tr>\n",
              "      <th>2019-02-08</th>\n",
              "      <td>42.602501</td>\n",
              "      <td>44.223324</td>\n",
              "    </tr>\n",
              "    <tr>\n",
              "      <th>2019-02-11</th>\n",
              "      <td>42.357498</td>\n",
              "      <td>44.455200</td>\n",
              "    </tr>\n",
              "    <tr>\n",
              "      <th>2019-02-12</th>\n",
              "      <td>42.722500</td>\n",
              "      <td>44.544823</td>\n",
              "    </tr>\n",
              "    <tr>\n",
              "      <th>2019-02-13</th>\n",
              "      <td>42.544998</td>\n",
              "      <td>44.607708</td>\n",
              "    </tr>\n",
              "    <tr>\n",
              "      <th>...</th>\n",
              "      <td>...</td>\n",
              "      <td>...</td>\n",
              "    </tr>\n",
              "    <tr>\n",
              "      <th>2021-05-10</th>\n",
              "      <td>126.849998</td>\n",
              "      <td>132.267685</td>\n",
              "    </tr>\n",
              "    <tr>\n",
              "      <th>2021-05-11</th>\n",
              "      <td>125.910004</td>\n",
              "      <td>131.635925</td>\n",
              "    </tr>\n",
              "    <tr>\n",
              "      <th>2021-05-12</th>\n",
              "      <td>122.769997</td>\n",
              "      <td>130.859848</td>\n",
              "    </tr>\n",
              "    <tr>\n",
              "      <th>2021-05-13</th>\n",
              "      <td>124.970001</td>\n",
              "      <td>129.676422</td>\n",
              "    </tr>\n",
              "    <tr>\n",
              "      <th>2021-05-14</th>\n",
              "      <td>127.440002</td>\n",
              "      <td>128.860962</td>\n",
              "    </tr>\n",
              "  </tbody>\n",
              "</table>\n",
              "<p>572 rows × 2 columns</p>\n",
              "</div>"
            ],
            "text/plain": [
              "                 Close  Predictions\n",
              "Date                               \n",
              "2019-02-07   42.735001    43.822216\n",
              "2019-02-08   42.602501    44.223324\n",
              "2019-02-11   42.357498    44.455200\n",
              "2019-02-12   42.722500    44.544823\n",
              "2019-02-13   42.544998    44.607708\n",
              "...                ...          ...\n",
              "2021-05-10  126.849998   132.267685\n",
              "2021-05-11  125.910004   131.635925\n",
              "2021-05-12  122.769997   130.859848\n",
              "2021-05-13  124.970001   129.676422\n",
              "2021-05-14  127.440002   128.860962\n",
              "\n",
              "[572 rows x 2 columns]"
            ]
          },
          "metadata": {
            "tags": []
          },
          "execution_count": 33
        }
      ]
    },
    {
      "cell_type": "code",
      "metadata": {
        "colab": {
          "base_uri": "https://localhost:8080/"
        },
        "id": "2_EmgFx5Nxz8",
        "outputId": "753460c4-c050-441b-cd80-fbf3ed9f2ae8"
      },
      "source": [
        "#Get the quote \n",
        "apple_quote = web.DataReader('AAPL', data_source='yahoo', start='2010-01-01', end='2021-05-14')\n",
        "#Create a new dataframe\n",
        "new_df = apple_quote.filter(['Close'])\n",
        "#Get the last 60 days closing price values and convert the dataframe to an array\n",
        "last_60_days = new_df[-60:].values\n",
        "#Scale the data to values between 0 and 1 \n",
        "last_60_days_scaled = scaler.transform(last_60_days)\n",
        "#Create an empty list\n",
        "X_test = []\n",
        "#Append the past 60 days\n",
        "X_test.append(last_60_days_scaled)\n",
        "#Vonvert the X_test data set to a numpy array\n",
        "X_test = np.array(X_test)\n",
        "#Reshape the data\n",
        "X_test = np.reshape(X_test, (X_test.shape[0], X_test.shape[1],1))\n",
        "#Get the predicted scaled price\n",
        "pred_price = model.predict(X_test)\n",
        "#Get the scaling\n",
        "pred_price = scaler.inverse_transform(pred_price)\n",
        "print(pred_price)\n",
        "\n"
      ],
      "execution_count": 36,
      "outputs": [
        {
          "output_type": "stream",
          "text": [
            "[[128.65422]]\n"
          ],
          "name": "stdout"
        }
      ]
    },
    {
      "cell_type": "code",
      "metadata": {
        "colab": {
          "base_uri": "https://localhost:8080/"
        },
        "id": "RmXF7lt9RwzU",
        "outputId": "0a509c82-58c5-4baa-bbdc-14e58c42d5d7"
      },
      "source": [
        "#Get the quote \n",
        "apple_quote2 = web.DataReader('AAPL', data_source='yahoo', start='2021-05-14', end='2021-05-14')\n",
        "print(apple_quote2['Close'])\n"
      ],
      "execution_count": 37,
      "outputs": [
        {
          "output_type": "stream",
          "text": [
            "Date\n",
            "2021-05-14    127.359001\n",
            "Name: Close, dtype: float64\n"
          ],
          "name": "stdout"
        }
      ]
    }
  ]
}