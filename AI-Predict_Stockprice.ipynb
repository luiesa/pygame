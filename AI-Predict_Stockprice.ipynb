{
  "nbformat": 4,
  "nbformat_minor": 0,
  "metadata": {
    "colab": {
      "name": "Untitled2.ipynb",
      "provenance": [],
      "collapsed_sections": [],
      "authorship_tag": "ABX9TyN7kiuik1ApcEwzPkGD5KL9",
      "include_colab_link": true
    },
    "kernelspec": {
      "name": "python3",
      "display_name": "Python 3"
    },
    "language_info": {
      "name": "python"
    }
  },
  "cells": [
    {
      "cell_type": "markdown",
      "metadata": {
        "id": "view-in-github",
        "colab_type": "text"
      },
      "source": [
        "<a href=\"https://colab.research.google.com/github/luiesa/pygame/blob/1.9.6-python3.8/AI-Predict_Stockprice.ipynb\" target=\"_parent\"><img src=\"https://colab.research.google.com/assets/colab-badge.svg\" alt=\"Open In Colab\"/></a>"
      ]
    },
    {
      "cell_type": "code",
      "metadata": {
        "colab": {
          "base_uri": "https://localhost:8080/",
          "height": 446
        },
        "id": "457LoLMvtxsS",
        "outputId": "bfe8a0c0-617a-4e87-dda7-87a971d777d9"
      },
      "source": [
        "#Description: This programm users an artificial recurrent neural network called Long Short Term Memory (LSTM) \n",
        "#             to predict the closing stock price of a corporation (Apple Inc.) using the past 60 days stock price. \n",
        "\n",
        "#Import the librayies\n",
        "import math\n",
        "import pandas_datareader as web\n",
        "import numpy as np\n",
        "import pandas as pd\n",
        "from sklearn.preprocessing import MinMaxScaler\n",
        "from keras.models import Sequential\n",
        "from keras.layers import Dense, LSTM\n",
        "import matplotlib.pyplot as plt\n",
        "plt.style.use('fivethirtyeight')\n",
        "\n",
        "#Get the stock quote\n",
        "df = web.DataReader('AAPL', data_source='yahoo', start='2010-01-01', end='2021-05-14')\n",
        "#Show the data\n",
        "df\n"
      ],
      "execution_count": 79,
      "outputs": [
        {
          "output_type": "execute_result",
          "data": {
            "text/html": [
              "<div>\n",
              "<style scoped>\n",
              "    .dataframe tbody tr th:only-of-type {\n",
              "        vertical-align: middle;\n",
              "    }\n",
              "\n",
              "    .dataframe tbody tr th {\n",
              "        vertical-align: top;\n",
              "    }\n",
              "\n",
              "    .dataframe thead th {\n",
              "        text-align: right;\n",
              "    }\n",
              "</style>\n",
              "<table border=\"1\" class=\"dataframe\">\n",
              "  <thead>\n",
              "    <tr style=\"text-align: right;\">\n",
              "      <th></th>\n",
              "      <th>High</th>\n",
              "      <th>Low</th>\n",
              "      <th>Open</th>\n",
              "      <th>Close</th>\n",
              "      <th>Volume</th>\n",
              "      <th>Adj Close</th>\n",
              "    </tr>\n",
              "    <tr>\n",
              "      <th>Date</th>\n",
              "      <th></th>\n",
              "      <th></th>\n",
              "      <th></th>\n",
              "      <th></th>\n",
              "      <th></th>\n",
              "      <th></th>\n",
              "    </tr>\n",
              "  </thead>\n",
              "  <tbody>\n",
              "    <tr>\n",
              "      <th>2010-01-04</th>\n",
              "      <td>7.660714</td>\n",
              "      <td>7.585000</td>\n",
              "      <td>7.622500</td>\n",
              "      <td>7.643214</td>\n",
              "      <td>493729600.0</td>\n",
              "      <td>6.572422</td>\n",
              "    </tr>\n",
              "    <tr>\n",
              "      <th>2010-01-05</th>\n",
              "      <td>7.699643</td>\n",
              "      <td>7.616071</td>\n",
              "      <td>7.664286</td>\n",
              "      <td>7.656429</td>\n",
              "      <td>601904800.0</td>\n",
              "      <td>6.583784</td>\n",
              "    </tr>\n",
              "    <tr>\n",
              "      <th>2010-01-06</th>\n",
              "      <td>7.686786</td>\n",
              "      <td>7.526786</td>\n",
              "      <td>7.656429</td>\n",
              "      <td>7.534643</td>\n",
              "      <td>552160000.0</td>\n",
              "      <td>6.479061</td>\n",
              "    </tr>\n",
              "    <tr>\n",
              "      <th>2010-01-07</th>\n",
              "      <td>7.571429</td>\n",
              "      <td>7.466071</td>\n",
              "      <td>7.562500</td>\n",
              "      <td>7.520714</td>\n",
              "      <td>477131200.0</td>\n",
              "      <td>6.467082</td>\n",
              "    </tr>\n",
              "    <tr>\n",
              "      <th>2010-01-08</th>\n",
              "      <td>7.571429</td>\n",
              "      <td>7.466429</td>\n",
              "      <td>7.510714</td>\n",
              "      <td>7.570714</td>\n",
              "      <td>447610800.0</td>\n",
              "      <td>6.510078</td>\n",
              "    </tr>\n",
              "    <tr>\n",
              "      <th>...</th>\n",
              "      <td>...</td>\n",
              "      <td>...</td>\n",
              "      <td>...</td>\n",
              "      <td>...</td>\n",
              "      <td>...</td>\n",
              "      <td>...</td>\n",
              "    </tr>\n",
              "    <tr>\n",
              "      <th>2021-05-10</th>\n",
              "      <td>129.539993</td>\n",
              "      <td>126.809998</td>\n",
              "      <td>129.410004</td>\n",
              "      <td>126.849998</td>\n",
              "      <td>88071200.0</td>\n",
              "      <td>126.849998</td>\n",
              "    </tr>\n",
              "    <tr>\n",
              "      <th>2021-05-11</th>\n",
              "      <td>126.269997</td>\n",
              "      <td>122.769997</td>\n",
              "      <td>123.500000</td>\n",
              "      <td>125.910004</td>\n",
              "      <td>126142800.0</td>\n",
              "      <td>125.910004</td>\n",
              "    </tr>\n",
              "    <tr>\n",
              "      <th>2021-05-12</th>\n",
              "      <td>124.639999</td>\n",
              "      <td>122.250000</td>\n",
              "      <td>123.400002</td>\n",
              "      <td>122.769997</td>\n",
              "      <td>112172300.0</td>\n",
              "      <td>122.769997</td>\n",
              "    </tr>\n",
              "    <tr>\n",
              "      <th>2021-05-13</th>\n",
              "      <td>126.150002</td>\n",
              "      <td>124.260002</td>\n",
              "      <td>124.580002</td>\n",
              "      <td>124.970001</td>\n",
              "      <td>105752400.0</td>\n",
              "      <td>124.970001</td>\n",
              "    </tr>\n",
              "    <tr>\n",
              "      <th>2021-05-14</th>\n",
              "      <td>127.144997</td>\n",
              "      <td>125.849998</td>\n",
              "      <td>126.250000</td>\n",
              "      <td>126.500000</td>\n",
              "      <td>35432052.0</td>\n",
              "      <td>126.500000</td>\n",
              "    </tr>\n",
              "  </tbody>\n",
              "</table>\n",
              "<p>2861 rows × 6 columns</p>\n",
              "</div>"
            ],
            "text/plain": [
              "                  High         Low  ...       Volume   Adj Close\n",
              "Date                                ...                         \n",
              "2010-01-04    7.660714    7.585000  ...  493729600.0    6.572422\n",
              "2010-01-05    7.699643    7.616071  ...  601904800.0    6.583784\n",
              "2010-01-06    7.686786    7.526786  ...  552160000.0    6.479061\n",
              "2010-01-07    7.571429    7.466071  ...  477131200.0    6.467082\n",
              "2010-01-08    7.571429    7.466429  ...  447610800.0    6.510078\n",
              "...                ...         ...  ...          ...         ...\n",
              "2021-05-10  129.539993  126.809998  ...   88071200.0  126.849998\n",
              "2021-05-11  126.269997  122.769997  ...  126142800.0  125.910004\n",
              "2021-05-12  124.639999  122.250000  ...  112172300.0  122.769997\n",
              "2021-05-13  126.150002  124.260002  ...  105752400.0  124.970001\n",
              "2021-05-14  127.144997  125.849998  ...   35432052.0  126.500000\n",
              "\n",
              "[2861 rows x 6 columns]"
            ]
          },
          "metadata": {
            "tags": []
          },
          "execution_count": 79
        }
      ]
    },
    {
      "cell_type": "code",
      "metadata": {
        "colab": {
          "base_uri": "https://localhost:8080/",
          "height": 0
        },
        "id": "5FBCbXjDz4t7",
        "outputId": "a5aa4c68-4e57-4893-885c-8631c75b0b87"
      },
      "source": [
        "#Get the number of rows and columns in the data set\n",
        "df.shape"
      ],
      "execution_count": 56,
      "outputs": [
        {
          "output_type": "execute_result",
          "data": {
            "text/plain": [
              "(5383, 6)"
            ]
          },
          "metadata": {
            "tags": []
          },
          "execution_count": 56
        }
      ]
    },
    {
      "cell_type": "code",
      "metadata": {
        "colab": {
          "base_uri": "https://localhost:8080/",
          "height": 558
        },
        "id": "KKUs6EbW0rD5",
        "outputId": "d4402f6e-7546-47d5-cc69-8a2af9140d43"
      },
      "source": [
        "#visualize the closing price history\n",
        "plt.figure(figsize=(16,8))\n",
        "plt.title('Close Price History')\n",
        "plt.plot(df['Close'])\n",
        "plt.xlabel('Date', fontsize=18)\n",
        "plt.ylabel('Close Price USD($)', fontsize=18)\n",
        "plt.show()\n",
        "\n"
      ],
      "execution_count": 57,
      "outputs": [
        {
          "output_type": "display_data",
          "data": {
            "image/png": "[encoded data removed]",
            "text/plain": [
              "<Figure size 1152x576 with 1 Axes>"
            ]
          },
          "metadata": {
            "tags": []
          }
        }
      ]
    },
    {
      "cell_type": "code",
      "metadata": {
        "colab": {
          "base_uri": "https://localhost:8080/",
          "height": 0
        },
        "id": "njjOzo6a28kp",
        "outputId": "e8a9a781-6299-424d-e4c7-3596c7f98e99"
      },
      "source": [
        "#Create a new dataframe with only the 'Close column'\n",
        "data = df.filter(['Close'])\n",
        "#Convert the dataframe to a numpy array\n",
        "dataset = data.values\n",
        "#Get the number of rows to train the model on\n",
        "training_data_len = math.ceil(len(dataset)*.8)\n",
        "\n",
        "training_data_len\n"
      ],
      "execution_count": 58,
      "outputs": [
        {
          "output_type": "execute_result",
          "data": {
            "text/plain": [
              "4307"
            ]
          },
          "metadata": {
            "tags": []
          },
          "execution_count": 58
        }
      ]
    },
    {
      "cell_type": "code",
      "metadata": {
        "colab": {
          "base_uri": "https://localhost:8080/",
          "height": 0
        },
        "id": "O0387rjH4QpU",
        "outputId": "e0ba0215-c8ef-4f85-df96-2f53d7a7ced5"
      },
      "source": [
        "#Scale the data\n",
        "scaler = MinMaxScaler(feature_range=(0,1))\n",
        "scaled_data = scaler.fit_transform(dataset)\n",
        "\n",
        "scaled_data\n"
      ],
      "execution_count": 59,
      "outputs": [
        {
          "output_type": "execute_result",
          "data": {
            "text/plain": [
              "array([[0.06740527],\n",
              "       [0.0810588 ],\n",
              "       [0.07854366],\n",
              "       ...,\n",
              "       [0.04791123],\n",
              "       [0.04922024],\n",
              "       [0.05140193]])"
            ]
          },
          "metadata": {
            "tags": []
          },
          "execution_count": 59
        }
      ]
    },
    {
      "cell_type": "code",
      "metadata": {
        "colab": {
          "base_uri": "https://localhost:8080/",
          "height": 0
        },
        "id": "-jpYB5WD5d-p",
        "outputId": "e56f70a7-1bc3-4ca9-d5bf-66450d51f817"
      },
      "source": [
        "#Create the training data set\n",
        "#Create the scaled training date set\n",
        "train_data = scaled_data[0:training_data_len, :]\n",
        "#Split the data into x_train and y_train data sets\n",
        "x_train = []\n",
        "y_train = []\n",
        "\n",
        "for i in range(60, len(train_data)):\n",
        "  x_train.append(train_data[i-60:i, 0])\n",
        "  y_train.append(train_data[i, 0]) \n",
        "  if i <= 61:\n",
        "    print(x_train)\n",
        "    print(y_train)\n",
        "    print()\n",
        "\n"
      ],
      "execution_count": 60,
      "outputs": [
        {
          "output_type": "stream",
          "text": [
            "[array([0.06740527, 0.0810588 , 0.07854366, 0.0857297 , 0.08231636,\n",
            "       0.07926226, 0.07333379, 0.07495064, 0.08932277, 0.08878381,\n",
            "       0.09129894, 0.09129894, 0.09417336, 0.08932277, 0.09938323,\n",
            "       0.09650882, 0.09704778, 0.10171873, 0.09902395, 0.09453264,\n",
            "       0.09884427, 0.09920359, 0.10351522, 0.10243733, 0.09740706,\n",
            "       0.09489197, 0.09561057, 0.09704778, 0.09327507, 0.09704778,\n",
            "       0.09291579, 0.08950241, 0.0873466 , 0.09004137, 0.09632917,\n",
            "       0.0936344 , 0.08770588, 0.09183786, 0.08770588, 0.08590939,\n",
            "       0.07962159, 0.07692681, 0.0810588 , 0.08680763, 0.08716696,\n",
            "       0.08770588, 0.09399368, 0.09543089, 0.09561057, 0.09812567,\n",
            "       0.09525125, 0.10028148, 0.09758674, 0.11429433, 0.11968389,\n",
            "       0.1225583 , 0.12094141, 0.1399845 , 0.13800832, 0.14519437])]\n",
            "[0.1326187679341652]\n",
            "\n",
            "[array([0.06740527, 0.0810588 , 0.07854366, 0.0857297 , 0.08231636,\n",
            "       0.07926226, 0.07333379, 0.07495064, 0.08932277, 0.08878381,\n",
            "       0.09129894, 0.09129894, 0.09417336, 0.08932277, 0.09938323,\n",
            "       0.09650882, 0.09704778, 0.10171873, 0.09902395, 0.09453264,\n",
            "       0.09884427, 0.09920359, 0.10351522, 0.10243733, 0.09740706,\n",
            "       0.09489197, 0.09561057, 0.09704778, 0.09327507, 0.09704778,\n",
            "       0.09291579, 0.08950241, 0.0873466 , 0.09004137, 0.09632917,\n",
            "       0.0936344 , 0.08770588, 0.09183786, 0.08770588, 0.08590939,\n",
            "       0.07962159, 0.07692681, 0.0810588 , 0.08680763, 0.08716696,\n",
            "       0.08770588, 0.09399368, 0.09543089, 0.09561057, 0.09812567,\n",
            "       0.09525125, 0.10028148, 0.09758674, 0.11429433, 0.11968389,\n",
            "       0.1225583 , 0.12094141, 0.1399845 , 0.13800832, 0.14519437]), array([0.0810588 , 0.07854366, 0.0857297 , 0.08231636, 0.07926226,\n",
            "       0.07333379, 0.07495064, 0.08932277, 0.08878381, 0.09129894,\n",
            "       0.09129894, 0.09417336, 0.08932277, 0.09938323, 0.09650882,\n",
            "       0.09704778, 0.10171873, 0.09902395, 0.09453264, 0.09884427,\n",
            "       0.09920359, 0.10351522, 0.10243733, 0.09740706, 0.09489197,\n",
            "       0.09561057, 0.09704778, 0.09327507, 0.09704778, 0.09291579,\n",
            "       0.08950241, 0.0873466 , 0.09004137, 0.09632917, 0.0936344 ,\n",
            "       0.08770588, 0.09183786, 0.08770588, 0.08590939, 0.07962159,\n",
            "       0.07692681, 0.0810588 , 0.08680763, 0.08716696, 0.08770588,\n",
            "       0.09399368, 0.09543089, 0.09561057, 0.09812567, 0.09525125,\n",
            "       0.10028148, 0.09758674, 0.11429433, 0.11968389, 0.1225583 ,\n",
            "       0.12094141, 0.1399845 , 0.13800832, 0.14519437, 0.13261877])]\n",
            "[0.1326187679341652, 0.129025745052379]\n",
            "\n"
          ],
          "name": "stdout"
        }
      ]
    },
    {
      "cell_type": "code",
      "metadata": {
        "id": "4xhqJUlK8N0m"
      },
      "source": [
        "#Convert the x_train and y_train to numpy arrays\n",
        "x_train, y_train = np.array(x_train), np.array(y_train)"
      ],
      "execution_count": 61,
      "outputs": []
    },
    {
      "cell_type": "code",
      "metadata": {
        "colab": {
          "base_uri": "https://localhost:8080/",
          "height": 0
        },
        "id": "3FPIZw6QB6UX",
        "outputId": "2672ce3c-c738-43a3-e364-650067aa5a4d"
      },
      "source": [
        "#Reshape the data\n",
        "x_train = np.reshape(x_train, (x_train.shape[0], x_train.shape[1], 1))\n",
        "x_train.shape"
      ],
      "execution_count": 62,
      "outputs": [
        {
          "output_type": "execute_result",
          "data": {
            "text/plain": [
              "(4247, 60, 1)"
            ]
          },
          "metadata": {
            "tags": []
          },
          "execution_count": 62
        }
      ]
    },
    {
      "cell_type": "code",
      "metadata": {
        "id": "uKJiaU6dCpNV"
      },
      "source": [
        "#Build the LSTM model\n",
        "model = Sequential()\n",
        "model.add(LSTM(50, return_sequences=True, input_shape=(x_train.shape[1],1)))\n",
        "model.add(LSTM(50, return_sequences=False))\n",
        "model.add(Dense(25))\n",
        "model.add(Dense(1))\n",
        "\n"
      ],
      "execution_count": 63,
      "outputs": []
    },
    {
      "cell_type": "code",
      "metadata": {
        "id": "mr4Exo0aEAhS"
      },
      "source": [
        "#Compile the model\n",
        "model.compile(optimizer='adam', loss='mean_squared_error')\n"
      ],
      "execution_count": 64,
      "outputs": []
    },
    {
      "cell_type": "code",
      "metadata": {
        "colab": {
          "base_uri": "https://localhost:8080/",
          "height": 0
        },
        "id": "X0lojFMlEeO7",
        "outputId": "8fbb6fe9-cef8-4045-ca5c-98d969df56d2"
      },
      "source": [
        "#Train the model\n",
        "model.fit(x_train, y_train, batch_size=1, epochs=1)"
      ],
      "execution_count": 65,
      "outputs": [
        {
          "output_type": "stream",
          "text": [
            "4247/4247 [==============================] - 116s 27ms/step - loss: 0.0013\n"
          ],
          "name": "stdout"
        },
        {
          "output_type": "execute_result",
          "data": {
            "text/plain": [
              "<tensorflow.python.keras.callbacks.History at 0x7f7a4213ca90>"
            ]
          },
          "metadata": {
            "tags": []
          },
          "execution_count": 65
        }
      ]
    },
    {
      "cell_type": "code",
      "metadata": {
        "id": "UnCzGpwbFHmm"
      },
      "source": [
        "#Create the testing data set\n",
        "#Create a new array containing scaled values from index 1824 to 2003\n",
        "test_data = scaled_data[training_data_len - 60: , :]\n",
        "#Create the data sets x_test and y_test\n",
        "x_test = []\n",
        "y_test = dataset[training_data_len: , :]\n",
        "for i in range(60, len(test_data)):\n",
        "  x_test.append(test_data[i-60:i, 0])\n"
      ],
      "execution_count": 66,
      "outputs": []
    },
    {
      "cell_type": "code",
      "metadata": {
        "id": "dTJAPut4Gwm6"
      },
      "source": [
        "#Convert the data to a numpy array\n",
        "x_test = np.array(x_test)\n"
      ],
      "execution_count": 67,
      "outputs": []
    },
    {
      "cell_type": "code",
      "metadata": {
        "id": "xbVo7svcG9-x"
      },
      "source": [
        "#Reshape the data \n",
        "x_test = np.reshape(x_test,(x_test.shape[0], x_test.shape[1],1))"
      ],
      "execution_count": 68,
      "outputs": []
    },
    {
      "cell_type": "code",
      "metadata": {
        "id": "xwZh51J3H7NM"
      },
      "source": [
        "#Get the models predicted price values\n",
        "predictions = model.predict(x_test)\n",
        "predictions = scaler.inverse_transform(predictions)\n"
      ],
      "execution_count": 69,
      "outputs": []
    },
    {
      "cell_type": "code",
      "metadata": {
        "colab": {
          "base_uri": "https://localhost:8080/",
          "height": 0
        },
        "id": "xCrW_CKvIfii",
        "outputId": "531897dc-dd1d-44d3-9059-41e4feeccc4c"
      },
      "source": [
        "#Get the root mean squared error(RMSE)\n",
        "rmse = np.sqrt( np.mean(predictions - y_test)**2 )\n",
        "rmse  "
      ],
      "execution_count": 70,
      "outputs": [
        {
          "output_type": "execute_result",
          "data": {
            "text/plain": [
              "0.2988884406905192"
            ]
          },
          "metadata": {
            "tags": []
          },
          "execution_count": 70
        }
      ]
    },
    {
      "cell_type": "code",
      "metadata": {
        "colab": {
          "base_uri": "https://localhost:8080/",
          "height": 925
        },
        "id": "_zTQ06R_J8Cv",
        "outputId": "9a0c6f10-c897-49af-db67-ac4b608030a8"
      },
      "source": [
        "#Plot the data\n",
        "train  = data[:training_data_len]\n",
        "valid = data[training_data_len:]\n",
        "valid['Predictions'] = predictions\n",
        "#Visualize the data\n",
        "plt.figure(figsize=(16,8))\n",
        "plt.title('Model')\n",
        "plt.xlabel('Date', fontsize=18)\n",
        "plt.ylabel('Close Price USD($)', fontsize=18)\n",
        "plt.plot(train['Close'])\n",
        "plt.plot(valid[['Close', 'Predictions']])\n",
        "plt.legend(['Train', 'Val', 'Predictions'], loc='high right')\n",
        "plt.show()\n"
      ],
      "execution_count": 74,
      "outputs": [
        {
          "output_type": "stream",
          "text": [
            "/usr/local/lib/python3.7/dist-packages/ipykernel_launcher.py:4: SettingWithCopyWarning: \n",
            "A value is trying to be set on a copy of a slice from a DataFrame.\n",
            "Try using .loc[row_indexer,col_indexer] = value instead\n",
            "\n",
            "See the caveats in the documentation: https://pandas.pydata.org/pandas-docs/stable/user_guide/indexing.html#returning-a-view-versus-a-copy\n",
            "  after removing the cwd from sys.path.\n",
            "/usr/local/lib/python3.7/dist-packages/ipykernel_launcher.py:12: MatplotlibDeprecationWarning: Unrecognized location 'high right'. Falling back on 'best'; valid locations are\n",
            "\tbest\n",
            "\tupper right\n",
            "\tupper left\n",
            "\tlower left\n",
            "\tlower right\n",
            "\tright\n",
            "\tcenter left\n",
            "\tcenter right\n",
            "\tlower center\n",
            "\tupper center\n",
            "\tcenter\n",
            "This will raise an exception in 3.3.\n",
            "  if sys.path[0] == '':\n"
          ],
          "name": "stderr"
        },
        {
          "output_type": "display_data",
          "data": {
            "image/png": "[encoded data removed]",
            "text/plain": [
              "<Figure size 1152x576 with 1 Axes>"
            ]
          },
          "metadata": {
            "tags": []
          }
        }
      ]
    },
    {
      "cell_type": "code",
      "metadata": {
        "colab": {
          "base_uri": "https://localhost:8080/",
          "height": 446
        },
        "id": "uAx5vf7-NY_6",
        "outputId": "bb0cc42f-67f3-4320-e0e0-ad04d7962094"
      },
      "source": [
        "#Show the valid and predicted prices\n",
        "valid"
      ],
      "execution_count": 75,
      "outputs": [
        {
          "output_type": "execute_result",
          "data": {
            "text/html": [
              "<div>\n",
              "<style scoped>\n",
              "    .dataframe tbody tr th:only-of-type {\n",
              "        vertical-align: middle;\n",
              "    }\n",
              "\n",
              "    .dataframe tbody tr th {\n",
              "        vertical-align: top;\n",
              "    }\n",
              "\n",
              "    .dataframe thead th {\n",
              "        text-align: right;\n",
              "    }\n",
              "</style>\n",
              "<table border=\"1\" class=\"dataframe\">\n",
              "  <thead>\n",
              "    <tr style=\"text-align: right;\">\n",
              "      <th></th>\n",
              "      <th>Close</th>\n",
              "      <th>Predictions</th>\n",
              "    </tr>\n",
              "    <tr>\n",
              "      <th>Date</th>\n",
              "      <th></th>\n",
              "      <th></th>\n",
              "    </tr>\n",
              "  </thead>\n",
              "  <tbody>\n",
              "    <tr>\n",
              "      <th>2016-12-07</th>\n",
              "      <td>14.79</td>\n",
              "      <td>14.071678</td>\n",
              "    </tr>\n",
              "    <tr>\n",
              "      <th>2016-12-08</th>\n",
              "      <td>14.74</td>\n",
              "      <td>14.161497</td>\n",
              "    </tr>\n",
              "    <tr>\n",
              "      <th>2016-12-09</th>\n",
              "      <td>14.85</td>\n",
              "      <td>14.265212</td>\n",
              "    </tr>\n",
              "    <tr>\n",
              "      <th>2016-12-12</th>\n",
              "      <td>13.79</td>\n",
              "      <td>14.391334</td>\n",
              "    </tr>\n",
              "    <tr>\n",
              "      <th>2016-12-13</th>\n",
              "      <td>13.87</td>\n",
              "      <td>13.800806</td>\n",
              "    </tr>\n",
              "    <tr>\n",
              "      <th>...</th>\n",
              "      <td>...</td>\n",
              "      <td>...</td>\n",
              "    </tr>\n",
              "    <tr>\n",
              "      <th>2021-05-10</th>\n",
              "      <td>2.42</td>\n",
              "      <td>2.507496</td>\n",
              "    </tr>\n",
              "    <tr>\n",
              "      <th>2021-05-11</th>\n",
              "      <td>2.54</td>\n",
              "      <td>2.394403</td>\n",
              "    </tr>\n",
              "    <tr>\n",
              "      <th>2021-05-12</th>\n",
              "      <td>2.67</td>\n",
              "      <td>2.377354</td>\n",
              "    </tr>\n",
              "    <tr>\n",
              "      <th>2021-05-13</th>\n",
              "      <td>2.70</td>\n",
              "      <td>2.439033</td>\n",
              "    </tr>\n",
              "    <tr>\n",
              "      <th>2021-05-14</th>\n",
              "      <td>2.75</td>\n",
              "      <td>2.502851</td>\n",
              "    </tr>\n",
              "  </tbody>\n",
              "</table>\n",
              "<p>1076 rows × 2 columns</p>\n",
              "</div>"
            ],
            "text/plain": [
              "            Close  Predictions\n",
              "Date                          \n",
              "2016-12-07  14.79    14.071678\n",
              "2016-12-08  14.74    14.161497\n",
              "2016-12-09  14.85    14.265212\n",
              "2016-12-12  13.79    14.391334\n",
              "2016-12-13  13.87    13.800806\n",
              "...           ...          ...\n",
              "2021-05-10   2.42     2.507496\n",
              "2021-05-11   2.54     2.394403\n",
              "2021-05-12   2.67     2.377354\n",
              "2021-05-13   2.70     2.439033\n",
              "2021-05-14   2.75     2.502851\n",
              "\n",
              "[1076 rows x 2 columns]"
            ]
          },
          "metadata": {
            "tags": []
          },
          "execution_count": 75
        }
      ]
    },
    {
      "cell_type": "code",
      "metadata": {
        "colab": {
          "base_uri": "https://localhost:8080/",
          "height": 0
        },
        "id": "2_EmgFx5Nxz8",
        "outputId": "cd1b5141-a58a-4415-a411-61a5d421ef4b"
      },
      "source": [
        "#Get the quote \n",
        "apple_quote = web.DataReader('600191.SS', data_source='yahoo', start='1998-12-10', end='2021-05-14')\n",
        "#Create a new dataframe\n",
        "new_df = apple_quote.filter(['Close'])\n",
        "#Get the last 60 days closing price values and convert the dataframe to an array\n",
        "last_60_days = new_df[-60:].values\n",
        "#Scale the data to values between 0 and 1 \n",
        "last_60_days_scaled = scaler.transform(last_60_days)\n",
        "#Create an empty list\n",
        "X_test = []\n",
        "#Append the past 60 days\n",
        "X_test.append(last_60_days_scaled)\n",
        "#Vonvert the X_test data set to a numpy array\n",
        "X_test = np.array(X_test)\n",
        "#Reshape the data\n",
        "X_test = np.reshape(X_test, (X_test.shape[0], X_test.shape[1],1))\n",
        "#Get the predicted scaled price\n",
        "pred_price = model.predict(X_test)\n",
        "#Get the scaling\n",
        "pred_price = scaler.inverse_transform(pred_price)\n",
        "print(pred_price)\n",
        "\n"
      ],
      "execution_count": 76,
      "outputs": [
        {
          "output_type": "stream",
          "text": [
            "[[2.5580049]]\n"
          ],
          "name": "stdout"
        }
      ]
    },
    {
      "cell_type": "code",
      "metadata": {
        "colab": {
          "base_uri": "https://localhost:8080/"
        },
        "id": "RmXF7lt9RwzU",
        "outputId": "60c985d1-9055-417a-da5c-0a4dd28bb9c6"
      },
      "source": [
        "#Get the quote \n",
        "apple_quote2 = web.DataReader('AAPL', data_source='yahoo', start='2021-05-13', end='2021-05-13')\n",
        "print(apple_quote2['Close'])\n"
      ],
      "execution_count": null,
      "outputs": [
        {
          "output_type": "stream",
          "text": [
            "Date\n",
            "2021-05-13    124.970001\n",
            "Name: Close, dtype: float64\n"
          ],
          "name": "stdout"
        }
      ]
    }
  ]
}